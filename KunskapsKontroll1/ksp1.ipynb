{
 "cells": [
  {
   "cell_type": "markdown",
   "id": "5934e881-e6e0-44fe-ae59-e7ea23a23c2a",
   "metadata": {},
   "source": [
    "# Uppgifter, Kapitel 6 - Klasser"
   ]
  },
  {
   "cell_type": "markdown",
   "id": "2ad510ef-639a-4733-8b8e-b2801a07c795",
   "metadata": {},
   "source": [
    "1. Kolla vilka klasser variablerna a, b, c, och d tillhör genom att använda type() funktionen.\n",
    "   Notera att vi i variablen d har sparat en funktion. Vi hade kunnat anropa den genom att till exempel skriva d(2). "
   ]
  },
  {
   "cell_type": "code",
   "execution_count": 1,
   "id": "7cfed4fc-fbe2-49c4-bb84-f3917ba4248d",
   "metadata": {},
   "outputs": [],
   "source": [
    "a = 10 \n",
    "b = [5, 7, 3] \n",
    "c = {2, 7, 1, 8, 2, 8}\n",
    "\n",
    "def my_fun(x):\n",
    "    return 2*2\n",
    "\n",
    "d = my_fun"
   ]
  },
  {
   "cell_type": "code",
   "execution_count": 2,
   "id": "289e3834-bb81-4850-a6c3-1d6bf54e8b69",
   "metadata": {},
   "outputs": [
    {
     "name": "stdout",
     "output_type": "stream",
     "text": [
      "<class 'int'>\n",
      "<class 'list'>\n",
      "<class 'set'>\n",
      "<class 'function'>\n"
     ]
    }
   ],
   "source": [
    "print(type(a))\n",
    "print(type(b))\n",
    "print(type(c))\n",
    "print(type(d))"
   ]
  },
  {
   "cell_type": "markdown",
   "id": "56c2e99e-6a41-43c9-8ea3-e002834187c5",
   "metadata": {},
   "source": [
    "2. a) Kolla om variablen \"my_variable\" är en instans av \"tuple\" klassen genom att använda isinstance() funktionen.\n",
    "   \n",
    "   b) Kolla om variablen \"my_variable\" är en instans av \"list\" klassen genom att använda isinstance() funktionen."
   ]
  },
  {
   "cell_type": "code",
   "execution_count": 3,
   "id": "53dce717-b6ce-4288-8bc2-785184f17d01",
   "metadata": {},
   "outputs": [],
   "source": [
    "my_variable = (1, 1, 2, 3, 5)"
   ]
  },
  {
   "cell_type": "code",
   "execution_count": 4,
   "id": "904943c7-6cd5-4d8c-9ae5-57fa3d6460c6",
   "metadata": {},
   "outputs": [
    {
     "data": {
      "text/plain": [
       "True"
      ]
     },
     "execution_count": 4,
     "metadata": {},
     "output_type": "execute_result"
    }
   ],
   "source": [
    "isinstance(my_variable, tuple)\n"
   ]
  },
  {
   "cell_type": "code",
   "execution_count": 5,
   "id": "b1d4a700",
   "metadata": {},
   "outputs": [
    {
     "data": {
      "text/plain": [
       "False"
      ]
     },
     "execution_count": 5,
     "metadata": {},
     "output_type": "execute_result"
    }
   ],
   "source": [
    "isinstance(my_variable, list)"
   ]
  },
  {
   "cell_type": "markdown",
   "id": "64fa3651-1d96-4181-9e2a-b2134365a398",
   "metadata": {},
   "source": [
    "3. I denna uppgiften skall du göra följande:\n",
    " \n",
    "   a) Skapa en klass som heter \"FruitProduct\" som har en docstring där det står \"A class representing fruit products in a grocery store.\".\n",
    "   \n",
    "   b) Klassen skall ha instans-attributen \"price\" och \"quantity\". Detta gör du i samband med _\\_\\_init_\\__() .\n",
    "   \n",
    "   c) Instantiera klassen och spara instansen i variablen \"swedish_apples\". Dess pris skall vara 52 och dess kvantitet 1. Det är underförstått att vi menar kronor respektive kg. \n",
    "   \n",
    "   d) Printa ut klassens docstring genom att använda dig av _\\_\\_doc_\\_\\_.\n",
    "   \n",
    "   e) Printa ut attributen från \"swedish_apples\" instansen.\n",
    "   \n",
    "   f) Kolla vilken klass instansen \"swedish_apples\" tillhör genom att använda type() metoden.\n",
    "   \n",
    "   g) Kolla om \"swedish_apples\" tillhör klassen \"FruitProduct\" genom att använda isinstance() metoden."
   ]
  },
  {
   "cell_type": "code",
   "execution_count": 6,
   "id": "d8c93a19-63da-4790-ab0f-24be338d192b",
   "metadata": {},
   "outputs": [],
   "source": [
    "class FruitProduct:\n",
    "    '''A class representing fruit products om a grocery store'''\n",
    "    def __init__(self, price: int, quantity: int) -> None:\n",
    "        self.price = price\n",
    "        self.quantity = quantity"
   ]
  },
  {
   "cell_type": "code",
   "execution_count": 7,
   "id": "53cb8e34",
   "metadata": {},
   "outputs": [],
   "source": [
    "swedish_apples = FruitProduct(price=52, quantity=1)"
   ]
  },
  {
   "cell_type": "code",
   "execution_count": 8,
   "id": "570357a4",
   "metadata": {},
   "outputs": [
    {
     "data": {
      "text/plain": [
       "'A class representing fruit products om a grocery store'"
      ]
     },
     "execution_count": 8,
     "metadata": {},
     "output_type": "execute_result"
    }
   ],
   "source": [
    "FruitProduct.__doc__"
   ]
  },
  {
   "cell_type": "code",
   "execution_count": 9,
   "id": "fcd2645a",
   "metadata": {},
   "outputs": [
    {
     "name": "stdout",
     "output_type": "stream",
     "text": [
      "<class '__main__.FruitProduct'>\n",
      "['__class__', '__delattr__', '__dict__', '__dir__', '__doc__', '__eq__', '__format__', '__ge__', '__getattribute__', '__gt__', '__hash__', '__init__', '__init_subclass__', '__le__', '__lt__', '__module__', '__ne__', '__new__', '__reduce__', '__reduce_ex__', '__repr__', '__setattr__', '__sizeof__', '__str__', '__subclasshook__', '__weakref__', 'price', 'quantity']\n"
     ]
    }
   ],
   "source": [
    "print(type(swedish_apples))\n",
    "\n",
    "print(dir(swedish_apples))"
   ]
  },
  {
   "cell_type": "code",
   "execution_count": 10,
   "id": "ed451cef",
   "metadata": {},
   "outputs": [
    {
     "data": {
      "text/plain": [
       "True"
      ]
     },
     "execution_count": 10,
     "metadata": {},
     "output_type": "execute_result"
    }
   ],
   "source": [
    "isinstance(swedish_apples, FruitProduct)"
   ]
  },
  {
   "cell_type": "markdown",
   "id": "accc0d0d-2246-43a6-afaf-b5b1c42b1ab6",
   "metadata": {},
   "source": [
    "4. Skapa en klass \"Square\" vars instanser har attributet \"side_length\". Skapa två metoder, \"perimeter()\" och \"area()\" där metoderna beräknar omkretsen respektive arean givet längden på kvadraternas sidor som finns i attributet \"side_length\". Skapa en instans \"my_square\" med sidlängden 8. Beräkna omkretsen och arean av \"my_square\" genom att använda de två metoderna som du har skapat. "
   ]
  },
  {
   "cell_type": "code",
   "execution_count": 11,
   "id": "69074342-0042-459b-893b-157d0f1fe6de",
   "metadata": {},
   "outputs": [
    {
     "name": "stdout",
     "output_type": "stream",
     "text": [
      "the area of my_square is: 64\n",
      "the perimiter of my_square is: 32\n"
     ]
    }
   ],
   "source": [
    "class Square:\n",
    "    def __init__(self, side_length: int):\n",
    "        self.side_length = side_length\n",
    "    \n",
    "    def perimeter(cls):\n",
    "        return cls.side_length * 4\n",
    "    \n",
    "    def area(cls):\n",
    "        return cls.side_length ** 2\n",
    "\n",
    "my_square = Square(side_length=8)\n",
    "area = my_square.area()\n",
    "perimiter = my_square.perimeter()\n",
    "print(f\"the area of my_square is: {area}\")\n",
    "print(f\"the perimiter of my_square is: {perimiter}\")"
   ]
  },
  {
   "cell_type": "markdown",
   "id": "1fccc14a-5c59-46b0-900b-ee17b8638c84",
   "metadata": {},
   "source": [
    "5. a) Förklara vad nedanstående kod gör.\n",
    "   \n",
    "   b) Prova ändra variabeln L i koden nedan till en tuple och se vad som sker när du kör om all kod. "
   ]
  },
  {
   "cell_type": "code",
   "execution_count": 12,
   "id": "78dafba1-8370-403b-a3e5-abf3e246c0c8",
   "metadata": {},
   "outputs": [],
   "source": [
    "class DescriptiveStatistics():\n",
    "    \"\"\"This class provides functionality for calculating descriptive statistics from a list.\"\"\"\n",
    "    \n",
    "    def __init__(self):\n",
    "        self.data = []\n",
    "    \n",
    "    def add_data(self, data):\n",
    "        if isinstance(data, list):\n",
    "            self.data.extend(data)\n",
    "        else:\n",
    "            # Code below raises an error if the data is not a list. Will be covered in chapter 8 of the book. \n",
    "            raise Exception('Only \"Lists\" are accepted as data.')  \n",
    "            \n",
    "    def calc_sum(self):\n",
    "        return sum(self.data)\n",
    "    \n",
    "    def calc_nbr_of_elements(self):\n",
    "        return len(self.data)\n",
    "    \n",
    "    def calc_mean(self):\n",
    "        return (self.calc_sum())/(self.calc_nbr_of_elements())\n",
    "    \n",
    "    def print_summary(self):\n",
    "        print('Sum:', self.calc_sum())\n",
    "        print('Number of elements:', self.calc_nbr_of_elements())\n",
    "        print('Mean:', self.calc_mean())  "
   ]
  },
  {
   "cell_type": "code",
   "execution_count": 13,
   "id": "0ca8bbdd-fae5-49eb-b7ac-e1097d21be32",
   "metadata": {},
   "outputs": [],
   "source": [
    "L = [1, 2, 1, 3, 5, 7, 4, 9, 10, 3, 2, 1, 6, 4, 3, 2, 1, 10, 9, 1, 8, 7, 3, 2, 1]\n",
    "#L = [(1, 2, 1, 3, 5, 7, 4, 9, 10, 3, 2, 1, 6, 4, 3, 2, 1, 10, 9, 1, 8, 7, 3, 2, 1)] #ger type-error då den inte stöder tuple\n",
    "my_data = DescriptiveStatistics()\n",
    "my_data.add_data(L)"
   ]
  },
  {
   "cell_type": "code",
   "execution_count": 14,
   "id": "bae2fd7d-7a65-4043-999f-dce227334d38",
   "metadata": {},
   "outputs": [
    {
     "data": {
      "text/plain": [
       "[1, 2, 1, 3, 5, 7, 4, 9, 10, 3, 2, 1, 6, 4, 3, 2, 1, 10, 9, 1, 8, 7, 3, 2, 1]"
      ]
     },
     "execution_count": 14,
     "metadata": {},
     "output_type": "execute_result"
    }
   ],
   "source": [
    "my_data.data"
   ]
  },
  {
   "cell_type": "code",
   "execution_count": 15,
   "id": "39c2015b-65d9-4c48-ad0d-edb01a192280",
   "metadata": {},
   "outputs": [
    {
     "name": "stdout",
     "output_type": "stream",
     "text": [
      "Sum: 105\n",
      "Number of elements: 25\n",
      "Mean: 4.2\n"
     ]
    }
   ],
   "source": [
    "print('Sum:', my_data.calc_sum())\n",
    "print('Number of elements:', my_data.calc_nbr_of_elements())\n",
    "print('Mean:', my_data.calc_mean())"
   ]
  },
  {
   "cell_type": "code",
   "execution_count": 16,
   "id": "e438a49d-04c1-45e1-8632-52bca24e8b31",
   "metadata": {},
   "outputs": [
    {
     "name": "stdout",
     "output_type": "stream",
     "text": [
      "Sum: 105\n",
      "Number of elements: 25\n",
      "Mean: 4.2\n"
     ]
    }
   ],
   "source": [
    "my_data.print_summary()"
   ]
  },
  {
   "cell_type": "markdown",
   "id": "c0e2853f",
   "metadata": {},
   "source": [
    "5 a: Koden tar in data som sedan läser av vilken klass datan ingår, om datan inte är en list och skriver ut att endast list är tillåtet som data.\n",
    "     sedan kommer fyra matematiska metoder, kalkylering av summa, numer av element medelvärde och sist en sammanfattning av de tre föregående metoderna.\n",
    "     Därefter skapar vi en lista med antal siffror i variabeln L och en variabel för \"my_data\" där vi passerar L.\n",
    "     Vi kollar my_data och skriver ut sammanfattningen i DescriptiveStatistics."
   ]
  },
  {
   "cell_type": "code",
   "execution_count": null,
   "id": "3f106d37-5cb9-4a58-81e8-095658ca0fed",
   "metadata": {},
   "outputs": [],
   "source": []
  },
  {
   "cell_type": "markdown",
   "id": "27871179-b49f-41ab-b5ed-ddc6275d083f",
   "metadata": {},
   "source": [
    "6. a) Skapa en klass som heter BankAccount. Klassen skall ha attributet \"account_holder\" som visar kontoinnehavarens namn samt attributet \"balance\" som visar kontoinnehavarens balans. Klassen skall ha metoden \"deposit()\" för att kunna sätta in pengar på kontot samt metoden \"withdraw()\" för att kunna ta ut pengar från kontot. Om bankinnehavaren försöker ta ut mer pengar än vad som finns på kontot skall meddelandet \"Too low balance\" printas ut.\n",
    "   \n",
    "   b) Skapa en instans av klassen och testa så klassen funkar så som du förväntar dig. Du kan till exempel prova printa ut attributen, sätta in pengar och ta ut pengar. "
   ]
  },
  {
   "cell_type": "code",
   "execution_count": 17,
   "id": "d1062a2c-7c92-45e4-8d33-d428ab2537e6",
   "metadata": {},
   "outputs": [],
   "source": [
    "amount = 0\n",
    "class BankAccount:\n",
    "    def __init__(self, account_holder: str, balance: int) -> None:\n",
    "        self.account_holder = account_holder\n",
    "        self.balance = balance\n",
    "    \n",
    "    \n",
    "    def deposite(self, deposite: int):\n",
    "            self.balance = (self.balance + deposite)\n",
    "            return(f\"succsesfully deposite {deposite} to your account, your new balance is: {self.balance}\")\n",
    "    def withdraw(self, withdraw):\n",
    "            if self.balance >= withdraw:\n",
    "                self.balance = (self.balance - withdraw)\n",
    "                print(f\"The withdrawl has been succsessful you new balance is {self.balance}\")\n",
    "            else:\n",
    "                print(f\"the amount you wish to withdraw is to high compared to your balance\")\n",
    "   "
   ]
  },
  {
   "cell_type": "code",
   "execution_count": 18,
   "id": "0f4f370d",
   "metadata": {},
   "outputs": [],
   "source": [
    "new_account = BankAccount(account_holder=\"David\", balance=100)"
   ]
  },
  {
   "cell_type": "code",
   "execution_count": 19,
   "id": "d3c262ed",
   "metadata": {},
   "outputs": [
    {
     "data": {
      "text/plain": [
       "'succsesfully deposite 200 to your account, your new balance is: 300'"
      ]
     },
     "execution_count": 19,
     "metadata": {},
     "output_type": "execute_result"
    }
   ],
   "source": [
    "new_account.deposite(200)"
   ]
  },
  {
   "cell_type": "code",
   "execution_count": 20,
   "id": "16595d6d",
   "metadata": {},
   "outputs": [
    {
     "name": "stdout",
     "output_type": "stream",
     "text": [
      "The withdrawl has been succsessful you new balance is 0\n"
     ]
    }
   ],
   "source": [
    "new_account.withdraw(300)"
   ]
  },
  {
   "cell_type": "markdown",
   "id": "f7383657-a3db-47eb-9263-b4be45de3409",
   "metadata": {},
   "source": [
    "7. Din kollega Adrian frågar dig, vad är klasser för något? Försök förklara detta för Adrian. Använd begreppen instanser, attribut samt metoder i din förklaring. "
   ]
  },
  {
   "cell_type": "markdown",
   "id": "41874ec6",
   "metadata": {},
   "source": [
    "En klass är en represenatation av ett objekt med attribut som beskriver objektets status, samt metoder som kan modifiera attributen.\n",
    "\n",
    "\n",
    "sida 167."
   ]
  },
  {
   "cell_type": "code",
   "execution_count": null,
   "id": "0a452510-c293-4282-81eb-48db0a5ea4c6",
   "metadata": {},
   "outputs": [],
   "source": []
  },
  {
   "cell_type": "markdown",
   "id": "6e141f03",
   "metadata": {},
   "source": [
    "# Uppgifter, Kapitel 7 - Konventioner och standarder"
   ]
  },
  {
   "cell_type": "markdown",
   "id": "aec7a131",
   "metadata": {},
   "source": [
    "1. Läs \"PEP 8 – Style Guide for \n",
    "Python Cod\"  och besvaranedanstående frågor.\n",
    " \n",
    "   a) Om du arbetar i ett projekt som har ett internt dokument med \"style guidelines\" där vissa saker går emot vad PEP8 säger. Vad gör du då?\n",
    "   \n",
    "   b) På vilket språk skall kommentarer generellt sett skrivas.\n",
    "   \n",
    "   c) Hur skall funktioner och variabler namnges?\n",
    "   \n",
    "   d) Hur skall klasser namnges?\n",
    "   \n",
    "   e) Om du i ditt skript importerar exempelvis en modul, vart i skriptet skall koden som utför importen placeras?\n",
    "   \n",
    "   f) Enligt PEP8, skall man använda enkla ('my_string') eller dubbla (\"my_string\") citattecken för att skapa en sträng?\n",
    "   \n",
    "   g) Vilket av \"Alternativ 1\" och \"Alternativ 2\" nedan är det korrekta sättet att skriva koden på enligt PEP8?"
   ]
  },
  {
   "cell_type": "markdown",
   "id": "3484b16a",
   "metadata": {},
   "source": [
    "a) Om projektet inte är mitt eget och någon annan ansvarar för det skulle jag förmedla detta till respektive ledare. Är det mitt projekt hade jag fixat så att de viktigaste förljer guidelines. \n",
    "\n",
    "b) generellt sett skrivs kod och kommentarer på engelska.\n",
    "\n",
    "c) funktioner och variabler skall namnges med små bokstäver separerat_med_understreck.\n",
    "\n",
    "d) Klass skall namnges med Storbokstav samt CapWords där orden separeras med storbokstav i början.\n",
    "\n",
    "e) generellt importeras moduler i övre raderna innan koden börjar tillsamans med docstring.\n",
    "\n",
    "f) pep säger inget specifikt om detta, men skall du citera något bör du använda enkla citattecken i strängen och dubbla citattecken vid citatet.\n",
    "\n",
    "g) första alternativet."
   ]
  },
  {
   "cell_type": "code",
   "execution_count": 21,
   "id": "e31bc214",
   "metadata": {},
   "outputs": [],
   "source": [
    "# Alternativ 1\n",
    "a1 = 5 + 2\n",
    "\n",
    "# Alternativ 2\n",
    "a2=5+2"
   ]
  },
  {
   "cell_type": "code",
   "execution_count": null,
   "id": "d185f9d8",
   "metadata": {},
   "outputs": [],
   "source": []
  },
  {
   "cell_type": "markdown",
   "id": "bd966159",
   "metadata": {},
   "source": [
    "2. I \"PEP20 - The Zen of Python\" så står det:\n",
    "   \n",
    "   a) \"Explicit is better than implicit.\" Vad tror du det innebär? Kan du exemplifiera?\n",
    "   \n",
    "   b) \"Simple is better than complex.\" Vad tror du det innebär? Kan du exemplifiera? ."
   ]
  },
  {
   "cell_type": "markdown",
   "id": "585154de",
   "metadata": {},
   "source": [
    "a) bättre att uttrycka sig tydligt än att anta att det är underförstått.\n",
    "\n",
    "b) enklare lösningar är bättre då det oftast kräver mindre arbete och är lättare att förstå."
   ]
  },
  {
   "cell_type": "code",
   "execution_count": null,
   "id": "da670b94",
   "metadata": {},
   "outputs": [],
   "source": []
  },
  {
   "cell_type": "markdown",
   "id": "1acfa2c0",
   "metadata": {},
   "source": [
    "3. Du och din nya kollega har en fikapaus och han säger följande: \"Det känns krångligt att vi alla skall behöva följa konventioner och standarder. Är det inte lättare om alla bara skriver kod på det sättet som de vill, sålänge som den fungerar\"? Vad svarar du? "
   ]
  },
  {
   "cell_type": "markdown",
   "id": "71b77a91",
   "metadata": {},
   "source": [
    "Visst skulle man kunna skriva koden som man själv vill, men om alla lärde sig ett språk som man själv vill hade kommunikationen i världen varit kaos.\n",
    "För att koden ska kunna fungera felfritt så ska den skrivas på samma sätt. en klass som stavas \"kaka\" istället för \"Kaka\" är inte samma klass."
   ]
  },
  {
   "cell_type": "code",
   "execution_count": null,
   "id": "5fe06c82",
   "metadata": {},
   "outputs": [],
   "source": []
  },
  {
   "cell_type": "markdown",
   "id": "087dde9d",
   "metadata": {},
   "source": [
    "# Uppgifter, Kapitel 8 - Felhantering"
   ]
  },
  {
   "cell_type": "markdown",
   "id": "f7382c30",
   "metadata": {},
   "source": [
    "1. Din kollega Johanna frågar dig:\n",
    "   \n",
    "   a) Vad är syntax errors?\n",
    "   \n",
    "   b) Varför skulle man vilja \"fånga exceptions\" i ett program och inte bara låta programmet stanna vid fel?\n",
    "   \n",
    "   c) Varför skulle man vilja \"lyfta exceptions\" i ett program? "
   ]
  },
  {
   "cell_type": "markdown",
   "id": "b26c9527",
   "metadata": {},
   "source": [
    "a) ett syntax error är när python inte kan tolka koden som skrivits.\n",
    "\n",
    "b) ibland kan det vara lönsamt att fånga exceptions för att kunna se om programet i helhet fungerar som det ska.\n",
    "\n",
    "c) ibland är det lönsamt att lyfta fram exceptions för att lättare kunna \"debugga\" ett program eller ett skript."
   ]
  },
  {
   "cell_type": "code",
   "execution_count": null,
   "id": "3fb0b5a4",
   "metadata": {},
   "outputs": [],
   "source": []
  },
  {
   "cell_type": "markdown",
   "id": "91b4a3e0",
   "metadata": {},
   "source": [
    "2. a) Förklara vad nedanstående kod gör.\n",
    "\n",
    "   b) Generellt sett, vad är poängen med att använda \"else\"?  "
   ]
  },
  {
   "cell_type": "code",
   "execution_count": 22,
   "id": "114fbdd2",
   "metadata": {},
   "outputs": [
    {
     "name": "stdout",
     "output_type": "stream",
     "text": [
      "314\n",
      "Invalid input, cannot convert to integer.\n"
     ]
    }
   ],
   "source": [
    "def convert_string_to_int(string):\n",
    "    try:\n",
    "        int(string)\n",
    "    except ValueError:\n",
    "        return \"Invalid input, cannot convert to integer.\"\n",
    "    else:\n",
    "        return int(string)\n",
    "\n",
    "print(convert_string_to_int(\"314\")) \n",
    "print(convert_string_to_int(\"abc\"))  "
   ]
  },
  {
   "cell_type": "markdown",
   "id": "154ed855",
   "metadata": {},
   "source": [
    "a) denna kod ger oss en metod för att konvertera en sträng till en int, detta görs genom att testa en sträng, om det inte går att göra till en int får vi ett felmeddelande annars får vi svaret som en int."
   ]
  },
  {
   "cell_type": "markdown",
   "id": "739b68cc",
   "metadata": {},
   "source": [
    "b) poängen med else är att om den inte fångar upp ett ValueError att printa ut int(string)"
   ]
  },
  {
   "cell_type": "markdown",
   "id": "43d632e7",
   "metadata": {},
   "source": [
    "3. Skriv ett kodexempel där du fångar en exception. Endast din kreativitet sätter gränser. "
   ]
  },
  {
   "cell_type": "code",
   "execution_count": 38,
   "id": "a23d87a6",
   "metadata": {},
   "outputs": [],
   "source": [
    "def prime_number(n):\n",
    "    if n < 2:\n",
    "        raise Exception (f\"{n} is not a prime number\")\n",
    "\n",
    "    i = 2\n",
    "    while i * i <= n:\n",
    "        if n % i == 0:\n",
    "            raise Exception(f\"{n} is not a prime number\")\n",
    "        i += 1\n",
    "    return True\n"
   ]
  },
  {
   "cell_type": "code",
   "execution_count": 41,
   "id": "a1b62e64",
   "metadata": {},
   "outputs": [
    {
     "ename": "Exception",
     "evalue": "4 is not a prime number",
     "output_type": "error",
     "traceback": [
      "\u001b[1;31m---------------------------------------------------------------------------\u001b[0m",
      "\u001b[1;31mException\u001b[0m                                 Traceback (most recent call last)",
      "Cell \u001b[1;32mIn[41], line 1\u001b[0m\n\u001b[1;32m----> 1\u001b[0m \u001b[43mprime_number\u001b[49m\u001b[43m(\u001b[49m\u001b[38;5;241;43m4\u001b[39;49m\u001b[43m)\u001b[49m\n",
      "Cell \u001b[1;32mIn[38], line 8\u001b[0m, in \u001b[0;36mprime_number\u001b[1;34m(n)\u001b[0m\n\u001b[0;32m      6\u001b[0m \u001b[38;5;28;01mwhile\u001b[39;00m i \u001b[38;5;241m*\u001b[39m i \u001b[38;5;241m<\u001b[39m\u001b[38;5;241m=\u001b[39m n:\n\u001b[0;32m      7\u001b[0m     \u001b[38;5;28;01mif\u001b[39;00m n \u001b[38;5;241m%\u001b[39m i \u001b[38;5;241m==\u001b[39m \u001b[38;5;241m0\u001b[39m:\n\u001b[1;32m----> 8\u001b[0m         \u001b[38;5;28;01mraise\u001b[39;00m \u001b[38;5;167;01mException\u001b[39;00m(\u001b[38;5;124mf\u001b[39m\u001b[38;5;124m\"\u001b[39m\u001b[38;5;132;01m{\u001b[39;00mn\u001b[38;5;132;01m}\u001b[39;00m\u001b[38;5;124m is not a prime number\u001b[39m\u001b[38;5;124m\"\u001b[39m)\n\u001b[0;32m      9\u001b[0m     i \u001b[38;5;241m+\u001b[39m\u001b[38;5;241m=\u001b[39m \u001b[38;5;241m1\u001b[39m\n\u001b[0;32m     10\u001b[0m \u001b[38;5;28;01mreturn\u001b[39;00m \u001b[38;5;28;01mTrue\u001b[39;00m\n",
      "\u001b[1;31mException\u001b[0m: 4 is not a prime number"
     ]
    }
   ],
   "source": [
    "prime_number(4)"
   ]
  },
  {
   "cell_type": "markdown",
   "id": "e6a8d390",
   "metadata": {},
   "source": [
    "4. Skapa en funktion \"add_two_small_numbers\" som adderar två tal. Om något av talen är större än 100 så skall du lyfta en exception och skriva ut meddelandet \"both numbers must be smaller than or equal to 100\". "
   ]
  },
  {
   "cell_type": "code",
   "execution_count": 23,
   "id": "81512c91",
   "metadata": {},
   "outputs": [
    {
     "data": {
      "text/plain": [
       "150"
      ]
     },
     "execution_count": 23,
     "metadata": {},
     "output_type": "execute_result"
    }
   ],
   "source": [
    "def add_two_small_numbers(x, y):\n",
    "    if (x >= 101) or (y >= 101):\n",
    "        raise Exception(\" both numbers must be equal or lower than 100\")\n",
    "    else:\n",
    "        return x + y\n",
    "\n",
    "add_two_small_numbers(100, 50)"
   ]
  },
  {
   "cell_type": "markdown",
   "id": "ab292591",
   "metadata": {},
   "source": [
    "5. Din kollega, som är en skicklig programmerare, brukar innan hon försöker göra ett perfekt fungerande program testa olika ideér för att undersöka och lära sig mer om det problem hon försöker lösa. Nedan ser du ett av hennes skript som gjorts i syfte att undersöka och lära sig mer. Förklara vad det är hon gjort. "
   ]
  },
  {
   "cell_type": "code",
   "execution_count": 24,
   "id": "543de286",
   "metadata": {},
   "outputs": [
    {
     "name": "stdout",
     "output_type": "stream",
     "text": [
      "<class 'TypeError'>\n",
      "unsupported operand type(s) for +: 'int' and 'str'\n"
     ]
    }
   ],
   "source": [
    "# Checking which exception is raised\n",
    "try:\n",
    "    5 + \"Python is fun!\"\n",
    "except Exception as exception_instance:\n",
    "    print(type(exception_instance))\n",
    "    print(exception_instance)"
   ]
  },
  {
   "cell_type": "markdown",
   "id": "58e25bbd",
   "metadata": {},
   "source": [
    "Här har hon skapat en try except funktion för att kolla så att exception blir fångad."
   ]
  },
  {
   "cell_type": "code",
   "execution_count": 25,
   "id": "fda5d7f2",
   "metadata": {},
   "outputs": [
    {
     "name": "stdout",
     "output_type": "stream",
     "text": [
      "<class 'ZeroDivisionError'>\n",
      "division by zero\n"
     ]
    }
   ],
   "source": [
    "# Checking which exception is raised\n",
    "try:\n",
    "    5/0\n",
    "except Exception as exception_instance:\n",
    "    print(type(exception_instance))\n",
    "    print(exception_instance)"
   ]
  },
  {
   "cell_type": "markdown",
   "id": "9372ae3d",
   "metadata": {},
   "source": [
    "Här har hon skapat en try except funktion för att kolla vilken exception blir fångad"
   ]
  },
  {
   "cell_type": "code",
   "execution_count": 26,
   "id": "d925c27b",
   "metadata": {},
   "outputs": [],
   "source": [
    "def add_two_numbers(a, b):\n",
    "    try:\n",
    "        return(a/b)\n",
    "    except TypeError:\n",
    "        print(\"Both arguments must be numbers.\")\n",
    "    except ZeroDivisionError:\n",
    "        print(\"Division by zero is not defined.\")        "
   ]
  },
  {
   "cell_type": "code",
   "execution_count": 27,
   "id": "e825b8cd",
   "metadata": {},
   "outputs": [
    {
     "name": "stdout",
     "output_type": "stream",
     "text": [
      "2.5\n",
      "Both arguments must be numbers.\n",
      "None\n",
      "Division by zero is not defined.\n",
      "None\n"
     ]
    }
   ],
   "source": [
    "# Testing so the functionality is as expected\n",
    "print(add_two_numbers(5, 2))\n",
    "print(add_two_numbers(5, \"hello\"))\n",
    "print(add_two_numbers(5, 0))"
   ]
  },
  {
   "cell_type": "markdown",
   "id": "a16aff6f",
   "metadata": {},
   "source": [
    "här har hon skapat en metod för att addera två numer med en try except. men skapade en divisions metod istället. där hon fångar upp TypeErrors, och ZeroDivisionErrors. "
   ]
  },
  {
   "cell_type": "markdown",
   "id": "944cafd8",
   "metadata": {},
   "source": [
    "# Uppgifter, Kapitel 9 - Test"
   ]
  },
  {
   "cell_type": "markdown",
   "id": "cc36e2ac",
   "metadata": {},
   "source": []
  },
  {
   "cell_type": "markdown",
   "id": "3ed71b45",
   "metadata": {},
   "source": [
    "1. Varför är det generellt sett en god idé att bygga upp tester för sin kod? "
   ]
  },
  {
   "cell_type": "markdown",
   "id": "73f79850",
   "metadata": {},
   "source": [
    "för att säkerställa att koden eller programmet fungerar som det ska."
   ]
  },
  {
   "cell_type": "markdown",
   "id": "d17adde9",
   "metadata": {},
   "source": [
    "2. Nedan ser du funktionen multiply_two_numbers. Använd \"doctest\" modulen för att implementera några test för funktionen \"multiply_two_numbers\". \n",
    "Den läsare som önskar kan även implementera testen i modulen \"pytest\". "
   ]
  },
  {
   "cell_type": "code",
   "execution_count": 28,
   "id": "4008ab25",
   "metadata": {},
   "outputs": [
    {
     "data": {
      "text/plain": [
       "TestResults(failed=0, attempted=1)"
      ]
     },
     "execution_count": 28,
     "metadata": {},
     "output_type": "execute_result"
    }
   ],
   "source": [
    "def multiply_two_numbers(a, b):\n",
    "    \"\"\"Return the product of a and b.\n",
    "    >>> multiply_two_numbers(2, 6)\n",
    "    12\n",
    "    \"\"\"\n",
    "    return a*b\n",
    "\n",
    "import doctest\n",
    "doctest.testmod()"
   ]
  },
  {
   "cell_type": "markdown",
   "id": "59cea168",
   "metadata": {},
   "source": [
    "3. Skriv någon kod eller använd någon kod som du till exempel skrivit i tidigare kapitels uppgifter och implementera några test. Använd \"doctest\" och/eller \"pytest\" modulen. "
   ]
  },
  {
   "cell_type": "code",
   "execution_count": 36,
   "id": "62531380",
   "metadata": {},
   "outputs": [
    {
     "data": {
      "text/plain": [
       "TestResults(failed=0, attempted=2)"
      ]
     },
     "execution_count": 36,
     "metadata": {},
     "output_type": "execute_result"
    }
   ],
   "source": [
    "def add_two_large_numbers(x, y):\n",
    "    '''return the sum of two x and y if they are equal or larger than 100\n",
    "    >>> add_two_large_numbers(101, 119)\n",
    "    220\n",
    "    '''\n",
    "    if (x <= 100) or (y <= 100):\n",
    "        raise Exception (\"both numbers must be equal or larger to 100\")\n",
    "    else:\n",
    "        return x + y\n",
    "\n",
    "import doctest\n",
    "doctest.testmod()"
   ]
  },
  {
   "cell_type": "markdown",
   "id": "2af867a6",
   "metadata": {},
   "source": [
    "# Uppgifter, Kapitel 10 - Moduler och paket"
   ]
  },
  {
   "cell_type": "markdown",
   "id": "52b062bb",
   "metadata": {},
   "source": [
    "1. Vad är en modul och hur kan en sådan användas i andra filer? "
   ]
  },
  {
   "cell_type": "markdown",
   "id": "271cbb0b",
   "metadata": {},
   "source": [
    "En modul är en pythonkod som kan innehålla definerade objekt så som variabler, funktioner och klasser som sedan kan importeras och användas i andra filer."
   ]
  },
  {
   "cell_type": "markdown",
   "id": "a3a9f546",
   "metadata": {},
   "source": [
    "2. a) Importera modulen \"math\" från \"The Python Standard Library\": https://docs.python.org/3/library/index.html utan att använda aliasing.\n",
    "   \n",
    "   b) Skriv help(math.ceil). Förstår du vad \"ceil()\" funktionen gör?\n",
    "\n",
    "   c) Skriv math.ceil(10.2), vad får du för svar och varför?\n",
    "\n",
    "   d) Skriv math.ceil(9.8), vad får du för svar och varför? "
   ]
  },
  {
   "cell_type": "code",
   "execution_count": 29,
   "id": "0a9cc40b",
   "metadata": {},
   "outputs": [
    {
     "name": "stdout",
     "output_type": "stream",
     "text": [
      "Help on built-in function ceil in module math:\n",
      "\n",
      "ceil(x, /)\n",
      "    Return the ceiling of x as an Integral.\n",
      "    \n",
      "    This is the smallest integer >= x.\n",
      "\n",
      "11\n",
      "10\n"
     ]
    }
   ],
   "source": [
    "import math\n",
    "\n",
    "help(math.ceil) #retunerar x som en integral större eller likamed x\n",
    "\n",
    "print(math.ceil(10.2))  #avrundar alltid uppåt\n",
    "\n",
    "print(math.ceil(9.8)) #avrundar alltid uppåt"
   ]
  },
  {
   "cell_type": "markdown",
   "id": "b79c222c",
   "metadata": {},
   "source": [
    "3. Bygg en egen modul som till exempel innehåller två funktioner, importera därefter denna modulen i ett annat skript och prova använd de två funktionerna. Notera att modulen du bygger skall skrivas i ett \"vanligt skript\" (en .py fil) och inte i en jupyter notebook fil (.ipynb). Du kan däremot importera modulen (.py filen) i en jupyter notebook (.ipynb fil).\n",
    "  \n",
    "   Om du önskar importera en jupyter notebook (.ipynb fil) till en annan jupyter notebook (.ipynb fil) så kan du kolla igenom följande smidiga paket: https://pypi.org/project/import-ipynb/ ."
   ]
  },
  {
   "cell_type": "code",
   "execution_count": 31,
   "id": "90ddc9e9",
   "metadata": {},
   "outputs": [
    {
     "name": "stdout",
     "output_type": "stream",
     "text": [
      "Hello world\n"
     ]
    },
    {
     "data": {
      "text/plain": [
       "' Innehållet från my_module1\\n\\ndef greeting():\\n    print(\"Hello world\")\\n\\nif __name__ == \\'__main__\\':\\n    greeting'"
      ]
     },
     "execution_count": 31,
     "metadata": {},
     "output_type": "execute_result"
    }
   ],
   "source": [
    "import my_module1\n",
    "my_module1.greeting()\n",
    "\n",
    "''' Innehållet från my_module1\n",
    "\n",
    "def greeting():\n",
    "    print(\"Hello world\")\n",
    "\n",
    "if __name__ == '__main__':\n",
    "    greeting'''"
   ]
  },
  {
   "cell_type": "markdown",
   "id": "ba34762c",
   "metadata": {},
   "source": [
    "# Uppgifter, Kapitel 11 - Loggning"
   ]
  },
  {
   "cell_type": "markdown",
   "id": "21ba00f2",
   "metadata": {},
   "source": [
    "1. Varför kan loggfiler med information vara viktiga för exempelvis företag och organisationer? "
   ]
  },
  {
   "cell_type": "markdown",
   "id": "f603f464",
   "metadata": {},
   "source": [
    "Det kan vara viktigt för företag och organisationer för att kunna felsöka samt undersöka olika situationer inom företaget."
   ]
  },
  {
   "cell_type": "markdown",
   "id": "f492fea3",
   "metadata": {},
   "source": [
    "2. Vad menas med att det finns olika nivåer för logg-meddelanden? "
   ]
  },
  {
   "cell_type": "markdown",
   "id": "2cb83c58",
   "metadata": {},
   "source": [
    "de olika nivåerna visar hur allvarliga händelseran kan vara."
   ]
  },
  {
   "cell_type": "markdown",
   "id": "29f1306b",
   "metadata": {},
   "source": [
    "3. Skapa ett valfritt program där du också använder dig av logging modulen. "
   ]
  },
  {
   "cell_type": "code",
   "execution_count": 6,
   "id": "c87600d2",
   "metadata": {},
   "outputs": [],
   "source": [
    "import logging\n",
    "\n",
    "logger = logging.getLogger(__name__)\n",
    "\n",
    "logging.basicConfig(\n",
    "    filename='test_log.txt', \n",
    "    format='[%(asctime)s][%(levelname)s] %(message)s',\n",
    "    level=logging.DEBUG\n",
    "    )\n",
    "\n",
    "logger.debug('Debug')"
   ]
  },
  {
   "cell_type": "markdown",
   "id": "1e0836bc",
   "metadata": {},
   "source": [
    "## csv_viewer program"
   ]
  },
  {
   "cell_type": "markdown",
   "id": "c2eb0daf",
   "metadata": {},
   "source": [
    "- Skaparen har gjort ett program med tkinter modulen för att läsa in och\n",
    "sortera csv filer. \n",
    "\n",
    "- skapar en pandas dataframe som läser in csv filen.\n",
    "\n",
    "- skapar en class VehicleViewerapp där själva uppbyggnaden av tkinter appen defineras\n",
    "\n",
    "- i classen läggs till app icon och en auto_adjust_column_width\n",
    "som anpassar kolumnens storlek till karaktärerna i texten.\n",
    "\n",
    "- skapar en apply_filter där man ska kunna filtrera kolumnerna (filtreringen fungerade inte för mig.)\n",
    "\n",
    "- skapar en export_to_csv där man frågar användaren efter ett filnamn och en plats att exportera filen (fungerade inte heller för mig.)\n",
    "\n",
    "- avslutar scriptet med root, app och root.mainloop vilket skapar och försäkrar att programmet inte stängs ner utan körs i en loop tills användaren avslutat programmet."
   ]
  },
  {
   "cell_type": "markdown",
   "id": "fab44fa5",
   "metadata": {},
   "source": []
  }
 ],
 "metadata": {
  "kernelspec": {
   "display_name": "Python 3 (ipykernel)",
   "language": "python",
   "name": "python3"
  },
  "language_info": {
   "codemirror_mode": {
    "name": "ipython",
    "version": 3
   },
   "file_extension": ".py",
   "mimetype": "text/x-python",
   "name": "python",
   "nbconvert_exporter": "python",
   "pygments_lexer": "ipython3",
   "version": "3.10.13"
  }
 },
 "nbformat": 4,
 "nbformat_minor": 5
}
