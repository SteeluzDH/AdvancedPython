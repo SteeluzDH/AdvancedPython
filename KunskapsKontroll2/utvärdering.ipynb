{
 "cells": [
  {
   "cell_type": "markdown",
   "metadata": {},
   "source": [
    "## Sjävlutvärdering\n",
    "David Norman Göteborg klassen\n",
    "\n",
    "\n",
    "- Utmaningar jag haft under arbetet samt hur jag hanterat dem.\n",
    "    den största utmaningen jag haft var att hitta användbar data att hämta och hantera, tillslut hittade jag färdiga csv filer jag kunde hämta då APIn skulle kräva extensiv kontakt med FIA (de som sköter och håller i Formel 1s statistik). sedan var det mest \"hur mycket\" jag skulle göra då det är väldigt individuellt hur mycket ett företag/person vill ha när det gäller data och hantering av data.\n",
    "\n",
    "- Vilket betyg jag anser att jag ska få.\n",
    "    Ja jag anser att jag bör få Godkänt då jag lyckats checka alla de kraven, men kanske ett plus i kanten då jag försökt mig på VG uppgifterna.\n",
    "\n",
    "- något jag vill lyfta fram till Linus och Antonio?\n",
    "    En väldigt rolig kurs, jag hade önskat lite mer övnings uppgifter som man gjort på lektionen tillsamans med andra. utöver det. superkul!!"
   ]
  }
 ],
 "metadata": {
  "language_info": {
   "name": "python"
  }
 },
 "nbformat": 4,
 "nbformat_minor": 2
}
